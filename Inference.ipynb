{
 "cells": [
  {
   "cell_type": "code",
   "execution_count": 1,
   "metadata": {},
   "outputs": [
    {
     "name": "stderr",
     "output_type": "stream",
     "text": [
      "Using TensorFlow backend.\n"
     ]
    }
   ],
   "source": [
    "import numpy as np\n",
    "import pandas as pd\n",
    "import pydicom\n",
    "%matplotlib inline\n",
    "import matplotlib.pyplot as plt\n",
    "import keras \n",
    "from skimage.transform import resize"
   ]
  },
  {
   "cell_type": "code",
   "execution_count": 2,
   "metadata": {},
   "outputs": [],
   "source": [
    "# This function reads in a .dcm file, checks the important fields for our device, and returns a numpy array\n",
    "# of just the imaging data\n",
    "def check_dicom(filename):    \n",
    "    print('Load file {} ...'.format(filename))\n",
    "    ds = pydicom.dcmread(filename)       \n",
    "    img = ds.pixel_array\n",
    "    img_mean=np.mean(img)\n",
    "    img_std=np.std(img)  \n",
    "    dcm = pydicom.dcmread(filename)       \n",
    "\n",
    "    age = int(dcm.PatientAge)\n",
    "    if age < 10 or age > 80:\n",
    "        print('Image {} is rejected since {} is not in the range 10 to 80'.format(filename,age))\n",
    "        print('\\n')\n",
    "        return None\n",
    "    return img, img_mean,img_std\n",
    "    \n",
    "    \n",
    "# This function takes the numpy array output by check_dicom and \n",
    "# runs the appropriate pre-processing needed for our model input\n",
    "def preprocess_image(img,img_mean,img_std,img_size): \n",
    "    img = (img - img_mean)/img_std\n",
    "    proc_img = resize(img, img_size)    \n",
    "    return proc_img\n",
    "\n",
    "# This function loads in our trained model w/ weights and compiles it \n",
    "def load_model(model_path, weight_path):\n",
    "    with open(model_path, 'r') as json_file:\n",
    "        model_file = json_file.read()\n",
    "        model = keras.models.model_from_json(model_file)\n",
    "        model.load_weights(weight_path)    \n",
    "    return model\n",
    "\n",
    "# This function uses our device's threshold parameters to predict whether or not\n",
    "# the image shows the presence of pneumonia using our trained model\n",
    "def predict_image(model, img, thresh): \n",
    "    prediction=model.predict(img)\n",
    "    if (prediction>thresh):\n",
    "        print(\"Pneumonia\")\n",
    "    else:\n",
    "        print(\"not Pneumonia\")      \n",
    "    return prediction "
   ]
  },
  {
   "cell_type": "code",
   "execution_count": 3,
   "metadata": {},
   "outputs": [],
   "source": [
    "test_dicoms = ['test1.dcm','test2.dcm','test3.dcm','test4.dcm','test5.dcm','test6.dcm']\n",
    "\n",
    "model_path = 'my_model.json'\n",
    "weight_path = 'xray_class_my_model.best.hdf5'"
   ]
  },
  {
   "cell_type": "code",
   "execution_count": 4,
   "metadata": {},
   "outputs": [
    {
     "name": "stdout",
     "output_type": "stream",
     "text": [
      "Load file test1.dcm ...\n",
      "Image test1.dcm is rejected since 81 is not in the range 10 to 80\n",
      "\n",
      "\n",
      "Load file test1.dcm ...\n",
      "Image test1.dcm is rejected since 81 is not in the range 10 to 80\n",
      "\n",
      "\n",
      "Load file test2.dcm ...\n",
      "Load file test2.dcm ...\n",
      "Load file test2.dcm ...\n",
      "not Pneumonia\n",
      "[[0.5816595]]\n",
      "Load file test3.dcm ...\n",
      "Load file test3.dcm ...\n",
      "Load file test3.dcm ...\n",
      "not Pneumonia\n",
      "[[0.5459813]]\n",
      "Load file test4.dcm ...\n",
      "Image test4.dcm is rejected since 81 is not in the range 10 to 80\n",
      "\n",
      "\n",
      "Load file test4.dcm ...\n",
      "Image test4.dcm is rejected since 81 is not in the range 10 to 80\n",
      "\n",
      "\n",
      "Load file test5.dcm ...\n",
      "Image test5.dcm is rejected since 81 is not in the range 10 to 80\n",
      "\n",
      "\n",
      "Load file test5.dcm ...\n",
      "Image test5.dcm is rejected since 81 is not in the range 10 to 80\n",
      "\n",
      "\n",
      "Load file test6.dcm ...\n",
      "Image test6.dcm is rejected since 81 is not in the range 10 to 80\n",
      "\n",
      "\n",
      "Load file test6.dcm ...\n",
      "Image test6.dcm is rejected since 81 is not in the range 10 to 80\n",
      "\n",
      "\n"
     ]
    }
   ],
   "source": [
    "IMG_SIZE=(1,224,224,3) # This might be different if you did not use vgg16\n",
    "\n",
    "my_model = load_model(model_path,weight_path)\n",
    "thresh = 0.66 \n",
    "\n",
    "# use the .dcm files to test your prediction\n",
    "for i in test_dicoms:\n",
    "    \n",
    "    img = np.array([])\n",
    "    if(check_dicom(i)!= None):\n",
    "        img,img_mean,img_std = check_dicom(i)\n",
    "    \n",
    "    if check_dicom(i) is None:\n",
    "        continue\n",
    "        \n",
    "    img_proc = preprocess_image(img,img_mean,img_std,IMG_SIZE)\n",
    "    pred = predict_image(my_model,img_proc,thresh)\n",
    "    print(pred)"
   ]
  }
 ],
 "metadata": {
  "kernelspec": {
   "display_name": "Python 3",
   "language": "python",
   "name": "python3"
  },
  "language_info": {
   "codemirror_mode": {
    "name": "ipython",
    "version": 3
   },
   "file_extension": ".py",
   "mimetype": "text/x-python",
   "name": "python",
   "nbconvert_exporter": "python",
   "pygments_lexer": "ipython3",
   "version": "3.7.6"
  }
 },
 "nbformat": 4,
 "nbformat_minor": 2
}
