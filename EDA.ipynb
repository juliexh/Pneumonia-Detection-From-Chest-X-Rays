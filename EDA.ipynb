{
 "cells": [
  {
   "cell_type": "markdown",
   "metadata": {},
   "source": [
    "## Load Data and Preprocessing"
   ]
  },
  {
   "cell_type": "code",
   "execution_count": 1,
   "metadata": {},
   "outputs": [],
   "source": [
    "import numpy as np # linear algebra\n",
    "import pandas as pd # data processing, CSV file I/O (e.g. pd.read_csv)\n",
    "import os\n",
    "from glob import glob\n",
    "%matplotlib inline\n",
    "import matplotlib.pyplot as plt\n",
    "import seaborn as sns\n",
    "from skimage import io\n",
    "import matplotlib.image as mpimg\n",
    "from itertools import chain\n",
    "from random import sample "
   ]
  },
  {
   "cell_type": "code",
   "execution_count": 2,
   "metadata": {},
   "outputs": [
    {
     "data": {
      "text/html": [
       "<div>\n",
       "<style scoped>\n",
       "    .dataframe tbody tr th:only-of-type {\n",
       "        vertical-align: middle;\n",
       "    }\n",
       "\n",
       "    .dataframe tbody tr th {\n",
       "        vertical-align: top;\n",
       "    }\n",
       "\n",
       "    .dataframe thead th {\n",
       "        text-align: right;\n",
       "    }\n",
       "</style>\n",
       "<table border=\"1\" class=\"dataframe\">\n",
       "  <thead>\n",
       "    <tr style=\"text-align: right;\">\n",
       "      <th></th>\n",
       "      <th>Image Index</th>\n",
       "      <th>Finding Labels</th>\n",
       "      <th>Follow-up #</th>\n",
       "      <th>Patient ID</th>\n",
       "      <th>Patient Age</th>\n",
       "      <th>Patient Gender</th>\n",
       "      <th>View Position</th>\n",
       "      <th>OriginalImage[Width</th>\n",
       "      <th>Height]</th>\n",
       "      <th>OriginalImagePixelSpacing[x</th>\n",
       "      <th>y]</th>\n",
       "      <th>Unnamed: 11</th>\n",
       "    </tr>\n",
       "  </thead>\n",
       "  <tbody>\n",
       "    <tr>\n",
       "      <th>60944</th>\n",
       "      <td>00015041_011.png</td>\n",
       "      <td>Consolidation|Effusion</td>\n",
       "      <td>11</td>\n",
       "      <td>15041</td>\n",
       "      <td>33</td>\n",
       "      <td>M</td>\n",
       "      <td>AP</td>\n",
       "      <td>2500</td>\n",
       "      <td>2048</td>\n",
       "      <td>0.168</td>\n",
       "      <td>0.168</td>\n",
       "      <td>NaN</td>\n",
       "    </tr>\n",
       "    <tr>\n",
       "      <th>14131</th>\n",
       "      <td>00003659_009.png</td>\n",
       "      <td>No Finding</td>\n",
       "      <td>9</td>\n",
       "      <td>3659</td>\n",
       "      <td>51</td>\n",
       "      <td>F</td>\n",
       "      <td>PA</td>\n",
       "      <td>2048</td>\n",
       "      <td>2500</td>\n",
       "      <td>0.168</td>\n",
       "      <td>0.168</td>\n",
       "      <td>NaN</td>\n",
       "    </tr>\n",
       "    <tr>\n",
       "      <th>55092</th>\n",
       "      <td>00013798_002.png</td>\n",
       "      <td>No Finding</td>\n",
       "      <td>2</td>\n",
       "      <td>13798</td>\n",
       "      <td>21</td>\n",
       "      <td>F</td>\n",
       "      <td>AP</td>\n",
       "      <td>2048</td>\n",
       "      <td>2500</td>\n",
       "      <td>0.168</td>\n",
       "      <td>0.168</td>\n",
       "      <td>NaN</td>\n",
       "    </tr>\n",
       "  </tbody>\n",
       "</table>\n",
       "</div>"
      ],
      "text/plain": [
       "            Image Index          Finding Labels  Follow-up #  Patient ID  \\\n",
       "60944  00015041_011.png  Consolidation|Effusion           11       15041   \n",
       "14131  00003659_009.png              No Finding            9        3659   \n",
       "55092  00013798_002.png              No Finding            2       13798   \n",
       "\n",
       "       Patient Age Patient Gender View Position  OriginalImage[Width  Height]  \\\n",
       "60944           33              M            AP                 2500     2048   \n",
       "14131           51              F            PA                 2048     2500   \n",
       "55092           21              F            AP                 2048     2500   \n",
       "\n",
       "       OriginalImagePixelSpacing[x     y]  Unnamed: 11  \n",
       "60944                        0.168  0.168          NaN  \n",
       "14131                        0.168  0.168          NaN  \n",
       "55092                        0.168  0.168          NaN  "
      ]
     },
     "execution_count": 2,
     "metadata": {},
     "output_type": "execute_result"
    }
   ],
   "source": [
    "## Below is some helper code to read data for you.\n",
    "## Load NIH data\n",
    "all_xray_df = pd.read_csv('/data/Data_Entry_2017.csv')\n",
    "all_xray_df.sample(3)"
   ]
  },
  {
   "cell_type": "code",
   "execution_count": 3,
   "metadata": {},
   "outputs": [],
   "source": [
    "all_labels = np.unique(list(chain(*all_xray_df['Finding Labels'].map(lambda x: x.split('|')).tolist())))"
   ]
  },
  {
   "cell_type": "code",
   "execution_count": 4,
   "metadata": {},
   "outputs": [],
   "source": [
    "all_labels = [x for x in all_labels if len(x)>0]"
   ]
  },
  {
   "cell_type": "code",
   "execution_count": 5,
   "metadata": {},
   "outputs": [
    {
     "name": "stdout",
     "output_type": "stream",
     "text": [
      "All Labels (15): ['Atelectasis', 'Cardiomegaly', 'Consolidation', 'Edema', 'Effusion', 'Emphysema', 'Fibrosis', 'Hernia', 'Infiltration', 'Mass', 'No Finding', 'Nodule', 'Pleural_Thickening', 'Pneumonia', 'Pneumothorax']\n"
     ]
    },
    {
     "data": {
      "text/html": [
       "<div>\n",
       "<style scoped>\n",
       "    .dataframe tbody tr th:only-of-type {\n",
       "        vertical-align: middle;\n",
       "    }\n",
       "\n",
       "    .dataframe tbody tr th {\n",
       "        vertical-align: top;\n",
       "    }\n",
       "\n",
       "    .dataframe thead th {\n",
       "        text-align: right;\n",
       "    }\n",
       "</style>\n",
       "<table border=\"1\" class=\"dataframe\">\n",
       "  <thead>\n",
       "    <tr style=\"text-align: right;\">\n",
       "      <th></th>\n",
       "      <th>Image Index</th>\n",
       "      <th>Finding Labels</th>\n",
       "      <th>Follow-up #</th>\n",
       "      <th>Patient ID</th>\n",
       "      <th>Patient Age</th>\n",
       "      <th>Patient Gender</th>\n",
       "      <th>View Position</th>\n",
       "      <th>OriginalImage[Width</th>\n",
       "      <th>Height]</th>\n",
       "      <th>OriginalImagePixelSpacing[x</th>\n",
       "      <th>...</th>\n",
       "      <th>Emphysema</th>\n",
       "      <th>Fibrosis</th>\n",
       "      <th>Hernia</th>\n",
       "      <th>Infiltration</th>\n",
       "      <th>Mass</th>\n",
       "      <th>No Finding</th>\n",
       "      <th>Nodule</th>\n",
       "      <th>Pleural_Thickening</th>\n",
       "      <th>Pneumonia</th>\n",
       "      <th>Pneumothorax</th>\n",
       "    </tr>\n",
       "  </thead>\n",
       "  <tbody>\n",
       "    <tr>\n",
       "      <th>65373</th>\n",
       "      <td>00016142_021.png</td>\n",
       "      <td>Infiltration</td>\n",
       "      <td>21</td>\n",
       "      <td>16142</td>\n",
       "      <td>16</td>\n",
       "      <td>M</td>\n",
       "      <td>PA</td>\n",
       "      <td>2992</td>\n",
       "      <td>2989</td>\n",
       "      <td>0.143000</td>\n",
       "      <td>...</td>\n",
       "      <td>0.0</td>\n",
       "      <td>0.0</td>\n",
       "      <td>0.0</td>\n",
       "      <td>1.0</td>\n",
       "      <td>0.0</td>\n",
       "      <td>0.0</td>\n",
       "      <td>0.0</td>\n",
       "      <td>0.0</td>\n",
       "      <td>0.0</td>\n",
       "      <td>0.0</td>\n",
       "    </tr>\n",
       "    <tr>\n",
       "      <th>32033</th>\n",
       "      <td>00008376_000.png</td>\n",
       "      <td>Pneumothorax</td>\n",
       "      <td>0</td>\n",
       "      <td>8376</td>\n",
       "      <td>68</td>\n",
       "      <td>F</td>\n",
       "      <td>AP</td>\n",
       "      <td>2500</td>\n",
       "      <td>2048</td>\n",
       "      <td>0.168000</td>\n",
       "      <td>...</td>\n",
       "      <td>0.0</td>\n",
       "      <td>0.0</td>\n",
       "      <td>0.0</td>\n",
       "      <td>0.0</td>\n",
       "      <td>0.0</td>\n",
       "      <td>0.0</td>\n",
       "      <td>0.0</td>\n",
       "      <td>0.0</td>\n",
       "      <td>0.0</td>\n",
       "      <td>1.0</td>\n",
       "    </tr>\n",
       "    <tr>\n",
       "      <th>75142</th>\n",
       "      <td>00018435_001.png</td>\n",
       "      <td>No Finding</td>\n",
       "      <td>1</td>\n",
       "      <td>18435</td>\n",
       "      <td>54</td>\n",
       "      <td>M</td>\n",
       "      <td>PA</td>\n",
       "      <td>2021</td>\n",
       "      <td>2021</td>\n",
       "      <td>0.194311</td>\n",
       "      <td>...</td>\n",
       "      <td>0.0</td>\n",
       "      <td>0.0</td>\n",
       "      <td>0.0</td>\n",
       "      <td>0.0</td>\n",
       "      <td>0.0</td>\n",
       "      <td>1.0</td>\n",
       "      <td>0.0</td>\n",
       "      <td>0.0</td>\n",
       "      <td>0.0</td>\n",
       "      <td>0.0</td>\n",
       "    </tr>\n",
       "  </tbody>\n",
       "</table>\n",
       "<p>3 rows × 27 columns</p>\n",
       "</div>"
      ],
      "text/plain": [
       "            Image Index Finding Labels  Follow-up #  Patient ID  Patient Age  \\\n",
       "65373  00016142_021.png   Infiltration           21       16142           16   \n",
       "32033  00008376_000.png   Pneumothorax            0        8376           68   \n",
       "75142  00018435_001.png     No Finding            1       18435           54   \n",
       "\n",
       "      Patient Gender View Position  OriginalImage[Width  Height]  \\\n",
       "65373              M            PA                 2992     2989   \n",
       "32033              F            AP                 2500     2048   \n",
       "75142              M            PA                 2021     2021   \n",
       "\n",
       "       OriginalImagePixelSpacing[x  ...  Emphysema  Fibrosis  Hernia  \\\n",
       "65373                     0.143000  ...        0.0       0.0     0.0   \n",
       "32033                     0.168000  ...        0.0       0.0     0.0   \n",
       "75142                     0.194311  ...        0.0       0.0     0.0   \n",
       "\n",
       "       Infiltration  Mass  No Finding  Nodule  Pleural_Thickening  Pneumonia  \\\n",
       "65373           1.0   0.0         0.0     0.0                 0.0        0.0   \n",
       "32033           0.0   0.0         0.0     0.0                 0.0        0.0   \n",
       "75142           0.0   0.0         1.0     0.0                 0.0        0.0   \n",
       "\n",
       "       Pneumothorax  \n",
       "65373           0.0  \n",
       "32033           1.0  \n",
       "75142           0.0  \n",
       "\n",
       "[3 rows x 27 columns]"
      ]
     },
     "execution_count": 5,
     "metadata": {},
     "output_type": "execute_result"
    }
   ],
   "source": [
    "print('All Labels ({}): {}'.format(len(all_labels), all_labels))\n",
    "for c_label in all_labels:\n",
    "    if len(c_label)>1: # leave out empty labels\n",
    "        all_xray_df[c_label] = all_xray_df['Finding Labels'].map(lambda finding: 1.0 if c_label in finding else 0)\n",
    "all_xray_df.sample(3)"
   ]
  },
  {
   "cell_type": "code",
   "execution_count": 6,
   "metadata": {},
   "outputs": [],
   "source": [
    "all_xray_df=all_xray_df[(all_xray_df['Patient Age']<100)&(all_xray_df['Patient Age']>10)]"
   ]
  },
  {
   "cell_type": "markdown",
   "metadata": {},
   "source": [
    "## The patient demographic data such as gender, age, patient position,etc."
   ]
  },
  {
   "cell_type": "code",
   "execution_count": 7,
   "metadata": {},
   "outputs": [
    {
     "data": {
      "text/plain": [
       "(array([ 2106.,  2830.,  4654.,  5066.,  6092.,  8148.,  6714.,  7676.,\n",
       "         9376., 10201., 13689., 10225.,  8367.,  6088.,  3772.,  2544.,\n",
       "          855.,   323.,   151.,    35.]),\n",
       " array([11. , 15.2, 19.4, 23.6, 27.8, 32. , 36.2, 40.4, 44.6, 48.8, 53. ,\n",
       "        57.2, 61.4, 65.6, 69.8, 74. , 78.2, 82.4, 86.6, 90.8, 95. ]),\n",
       " <a list of 20 Patch objects>)"
      ]
     },
     "execution_count": 7,
     "metadata": {},
     "output_type": "execute_result"
    },
    {
     "data": {
      "image/png": "[encoded data removed]",
      "text/plain": [
       "<Figure size 720x432 with 1 Axes>"
      ]
     },
     "metadata": {
      "needs_background": "light"
     },
     "output_type": "display_data"
    }
   ],
   "source": [
    "plt.figure(figsize=(10,6))\n",
    "plt.hist(all_xray_df[all_xray_df.Pneumonia==0]['Patient Age'],bins=20)"
   ]
  },
  {
   "cell_type": "code",
   "execution_count": 8,
   "metadata": {},
   "outputs": [
    {
     "data": {
      "text/plain": [
       "(array([ 32.,  43.,  56.,  93.,  71., 114.,  80.,  85., 107., 111., 109.,\n",
       "        127., 109., 113.,  69.,  33.,  20.,  11.,   4.,   2.]),\n",
       " array([11.  , 14.95, 18.9 , 22.85, 26.8 , 30.75, 34.7 , 38.65, 42.6 ,\n",
       "        46.55, 50.5 , 54.45, 58.4 , 62.35, 66.3 , 70.25, 74.2 , 78.15,\n",
       "        82.1 , 86.05, 90.  ]),\n",
       " <a list of 20 Patch objects>)"
      ]
     },
     "execution_count": 8,
     "metadata": {},
     "output_type": "execute_result"
    },
    {
     "data": {
      "image/png": "[encoded data removed]",
      "text/plain": [
       "<Figure size 720x432 with 1 Axes>"
      ]
     },
     "metadata": {
      "needs_background": "light"
     },
     "output_type": "display_data"
    }
   ],
   "source": [
    "plt.figure(figsize=(10,6))\n",
    "plt.hist(all_xray_df[all_xray_df.Pneumonia==1]['Patient Age'],bins=20)"
   ]
  },
  {
   "cell_type": "code",
   "execution_count": 9,
   "metadata": {},
   "outputs": [
    {
     "data": {
      "text/plain": [
       "<matplotlib.axes._subplots.AxesSubplot at 0x7fe187a789d0>"
      ]
     },
     "execution_count": 9,
     "metadata": {},
     "output_type": "execute_result"
    },
    {
     "data": {
      "image/png": "[encoded data removed]",
      "text/plain": [
       "<Figure size 432x432 with 1 Axes>"
      ]
     },
     "metadata": {
      "needs_background": "light"
     },
     "output_type": "display_data"
    }
   ],
   "source": [
    "plt.figure(figsize=(6,6))\n",
    "all_xray_df[all_xray_df.Pneumonia==0]['Patient Gender'].value_counts().plot(kind='bar')"
   ]
  },
  {
   "cell_type": "code",
   "execution_count": 10,
   "metadata": {},
   "outputs": [
    {
     "data": {
      "text/plain": [
       "<matplotlib.axes._subplots.AxesSubplot at 0x7fe18a449990>"
      ]
     },
     "execution_count": 10,
     "metadata": {},
     "output_type": "execute_result"
    },
    {
     "data": {
      "image/png": "[encoded data removed]",
      "text/plain": [
       "<Figure size 432x432 with 1 Axes>"
      ]
     },
     "metadata": {
      "needs_background": "light"
     },
     "output_type": "display_data"
    }
   ],
   "source": [
    "plt.figure(figsize=(6,6))\n",
    "all_xray_df[all_xray_df.Pneumonia==1]['Patient Gender'].value_counts().plot(kind='bar')"
   ]
  },
  {
   "cell_type": "markdown",
   "metadata": {},
   "source": [
    "## The x-ray views taken (i.e. view position)"
   ]
  },
  {
   "cell_type": "code",
   "execution_count": 11,
   "metadata": {},
   "outputs": [
    {
     "data": {
      "text/plain": [
       "<matplotlib.axes._subplots.AxesSubplot at 0x7fe1881c4790>"
      ]
     },
     "execution_count": 11,
     "metadata": {},
     "output_type": "execute_result"
    },
    {
     "data": {
      "image/png": "[encoded data removed]",
      "text/plain": [
       "<Figure size 432x432 with 1 Axes>"
      ]
     },
     "metadata": {
      "needs_background": "light"
     },
     "output_type": "display_data"
    }
   ],
   "source": [
    "plt.figure(figsize=(6,6))\n",
    "all_xray_df[all_xray_df.Pneumonia==0]['View Position'].value_counts().plot(kind='bar')"
   ]
  },
  {
   "cell_type": "code",
   "execution_count": 12,
   "metadata": {},
   "outputs": [
    {
     "data": {
      "text/plain": [
       "<matplotlib.axes._subplots.AxesSubplot at 0x7fe1882b0550>"
      ]
     },
     "execution_count": 12,
     "metadata": {},
     "output_type": "execute_result"
    },
    {
     "data": {
      "image/png": "[encoded data removed]",
      "text/plain": [
       "<Figure size 432x432 with 1 Axes>"
      ]
     },
     "metadata": {
      "needs_background": "light"
     },
     "output_type": "display_data"
    }
   ],
   "source": [
    "plt.figure(figsize=(6,6))\n",
    "all_xray_df[all_xray_df.Pneumonia==1]['View Position'].value_counts().plot(kind='bar')"
   ]
  },
  {
   "cell_type": "markdown",
   "metadata": {},
   "source": [
    "## The number of cases including number of pneumonia cases and number of non-pneumonia cases"
   ]
  },
  {
   "cell_type": "code",
   "execution_count": 13,
   "metadata": {},
   "outputs": [
    {
     "data": {
      "text/plain": [
       "[Text(0, 0.5, 'Number of Images with Label')]"
      ]
     },
     "execution_count": 13,
     "metadata": {},
     "output_type": "execute_result"
    },
    {
     "data": {
      "image/png": "[encoded data removed]",
      "text/plain": [
       "<Figure size 432x288 with 1 Axes>"
      ]
     },
     "metadata": {
      "needs_background": "light"
     },
     "output_type": "display_data"
    }
   ],
   "source": [
    "ax = all_xray_df[all_labels].sum().plot(kind='bar')\n",
    "ax.set(ylabel = 'Number of Images with Label')"
   ]
  },
  {
   "cell_type": "code",
   "execution_count": 14,
   "metadata": {},
   "outputs": [
    {
     "data": {
      "text/plain": [
       "<matplotlib.axes._subplots.AxesSubplot at 0x7fe1881560d0>"
      ]
     },
     "execution_count": 14,
     "metadata": {},
     "output_type": "execute_result"
    },
    {
     "data": {
      "image/png": "[encoded data removed]",
      "text/plain": [
       "<Figure size 1152x432 with 1 Axes>"
      ]
     },
     "metadata": {
      "needs_background": "light"
     },
     "output_type": "display_data"
    }
   ],
   "source": [
    "plt.figure(figsize=(16,6))\n",
    "all_xray_df['Pneumonia'].value_counts()[0:30].plot(kind='bar')"
   ]
  },
  {
   "cell_type": "code",
   "execution_count": 15,
   "metadata": {},
   "outputs": [
    {
     "data": {
      "text/plain": [
       "0.012592814208393397"
      ]
     },
     "execution_count": 15,
     "metadata": {},
     "output_type": "execute_result"
    }
   ],
   "source": [
    "Pneumonia_rate=len(all_xray_df[all_xray_df['Pneumonia']==1])/len(all_xray_df)\n",
    "Pneumonia_rate"
   ]
  },
  {
   "cell_type": "markdown",
   "metadata": {},
   "source": [
    "## The distribution of other diseases that are comorbid with pneumonia "
   ]
  },
  {
   "cell_type": "code",
   "execution_count": 16,
   "metadata": {},
   "outputs": [
    {
     "data": {
      "text/plain": [
       "<matplotlib.axes._subplots.AxesSubplot at 0x7fe18807bf50>"
      ]
     },
     "execution_count": 16,
     "metadata": {},
     "output_type": "execute_result"
    },
    {
     "data": {
      "image/png": "[encoded data removed]",
      "text/plain": [
       "<Figure size 1152x432 with 1 Axes>"
      ]
     },
     "metadata": {
      "needs_background": "light"
     },
     "output_type": "display_data"
    }
   ],
   "source": [
    "##Since there are many combinations of potential findings, I'm going to look at the 30 most common co-occurrences:\n",
    "plt.figure(figsize=(16,6))\n",
    "all_xray_df[all_xray_df.Pneumonia==1]['Finding Labels'].value_counts()[0:30].plot(kind='bar')"
   ]
  },
  {
   "cell_type": "markdown",
   "metadata": {},
   "source": [
    "## Number of disease per patient"
   ]
  },
  {
   "cell_type": "code",
   "execution_count": 17,
   "metadata": {},
   "outputs": [
    {
     "data": {
      "text/plain": [
       "<matplotlib.axes._subplots.AxesSubplot at 0x7fe187f8b810>"
      ]
     },
     "execution_count": 17,
     "metadata": {},
     "output_type": "execute_result"
    },
    {
     "data": {
      "image/png": "[encoded data removed]",
      "text/plain": [
       "<Figure size 1152x432 with 1 Axes>"
      ]
     },
     "metadata": {
      "needs_background": "light"
     },
     "output_type": "display_data"
    }
   ],
   "source": [
    "plt.figure(figsize=(16,6))\n",
    "(all_xray_df[all_labels].sum()/len(all_xray_df)).plot(kind='bar')"
   ]
  },
  {
   "cell_type": "markdown",
   "metadata": {},
   "source": [
    "## Pixel-level assessments of the imaging data for healthy & disease states of interest (e.g. histograms of intensity values) and compare distributions across diseases."
   ]
  },
  {
   "cell_type": "code",
   "execution_count": 18,
   "metadata": {},
   "outputs": [
    {
     "data": {
      "text/html": [
       "<div>\n",
       "<style scoped>\n",
       "    .dataframe tbody tr th:only-of-type {\n",
       "        vertical-align: middle;\n",
       "    }\n",
       "\n",
       "    .dataframe tbody tr th {\n",
       "        vertical-align: top;\n",
       "    }\n",
       "\n",
       "    .dataframe thead th {\n",
       "        text-align: right;\n",
       "    }\n",
       "</style>\n",
       "<table border=\"1\" class=\"dataframe\">\n",
       "  <thead>\n",
       "    <tr style=\"text-align: right;\">\n",
       "      <th></th>\n",
       "      <th>Image Index</th>\n",
       "      <th>Finding Labels</th>\n",
       "      <th>Follow-up #</th>\n",
       "      <th>Patient ID</th>\n",
       "      <th>Patient Age</th>\n",
       "      <th>Patient Gender</th>\n",
       "      <th>View Position</th>\n",
       "      <th>OriginalImageWidth</th>\n",
       "      <th>OriginalImageHeight</th>\n",
       "      <th>OriginalImagePixelSpacing_x</th>\n",
       "      <th>OriginalImagePixelSpacing_y</th>\n",
       "    </tr>\n",
       "  </thead>\n",
       "  <tbody>\n",
       "    <tr>\n",
       "      <th>2527</th>\n",
       "      <td>00012687_011.png</td>\n",
       "      <td>Pneumothorax</td>\n",
       "      <td>11</td>\n",
       "      <td>12687</td>\n",
       "      <td>063Y</td>\n",
       "      <td>F</td>\n",
       "      <td>PA</td>\n",
       "      <td>2992</td>\n",
       "      <td>2991</td>\n",
       "      <td>0.143</td>\n",
       "      <td>0.143</td>\n",
       "    </tr>\n",
       "    <tr>\n",
       "      <th>1163</th>\n",
       "      <td>00006180_001.png</td>\n",
       "      <td>Infiltration</td>\n",
       "      <td>1</td>\n",
       "      <td>6180</td>\n",
       "      <td>006Y</td>\n",
       "      <td>F</td>\n",
       "      <td>PA</td>\n",
       "      <td>2048</td>\n",
       "      <td>2500</td>\n",
       "      <td>0.168</td>\n",
       "      <td>0.168</td>\n",
       "    </tr>\n",
       "    <tr>\n",
       "      <th>3751</th>\n",
       "      <td>00018394_001.png</td>\n",
       "      <td>No Finding</td>\n",
       "      <td>1</td>\n",
       "      <td>18394</td>\n",
       "      <td>057Y</td>\n",
       "      <td>F</td>\n",
       "      <td>PA</td>\n",
       "      <td>2992</td>\n",
       "      <td>2991</td>\n",
       "      <td>0.143</td>\n",
       "      <td>0.143</td>\n",
       "    </tr>\n",
       "  </tbody>\n",
       "</table>\n",
       "</div>"
      ],
      "text/plain": [
       "           Image Index Finding Labels  Follow-up #  Patient ID Patient Age  \\\n",
       "2527  00012687_011.png   Pneumothorax           11       12687        063Y   \n",
       "1163  00006180_001.png   Infiltration            1        6180        006Y   \n",
       "3751  00018394_001.png     No Finding            1       18394        057Y   \n",
       "\n",
       "     Patient Gender View Position  OriginalImageWidth  OriginalImageHeight  \\\n",
       "2527              F            PA                2992                 2991   \n",
       "1163              F            PA                2048                 2500   \n",
       "3751              F            PA                2992                 2991   \n",
       "\n",
       "      OriginalImagePixelSpacing_x  OriginalImagePixelSpacing_y  \n",
       "2527                        0.143                        0.143  \n",
       "1163                        0.168                        0.168  \n",
       "3751                        0.143                        0.143  "
      ]
     },
     "execution_count": 18,
     "metadata": {},
     "output_type": "execute_result"
    }
   ],
   "source": [
    "## Load 'sample_labels.csv' data for pixel level assessments\n",
    "sample_df = pd.read_csv('sample_labels.csv')\n",
    "sample_df.sample(3)"
   ]
  },
  {
   "cell_type": "code",
   "execution_count": 19,
   "metadata": {},
   "outputs": [
    {
     "name": "stdout",
     "output_type": "stream",
     "text": [
      "All Labels (15): ['Atelectasis', 'Cardiomegaly', 'Consolidation', 'Edema', 'Effusion', 'Emphysema', 'Fibrosis', 'Hernia', 'Infiltration', 'Mass', 'No Finding', 'Nodule', 'Pleural_Thickening', 'Pneumonia', 'Pneumothorax']\n"
     ]
    },
    {
     "data": {
      "text/html": [
       "<div>\n",
       "<style scoped>\n",
       "    .dataframe tbody tr th:only-of-type {\n",
       "        vertical-align: middle;\n",
       "    }\n",
       "\n",
       "    .dataframe tbody tr th {\n",
       "        vertical-align: top;\n",
       "    }\n",
       "\n",
       "    .dataframe thead th {\n",
       "        text-align: right;\n",
       "    }\n",
       "</style>\n",
       "<table border=\"1\" class=\"dataframe\">\n",
       "  <thead>\n",
       "    <tr style=\"text-align: right;\">\n",
       "      <th></th>\n",
       "      <th>Image Index</th>\n",
       "      <th>Finding Labels</th>\n",
       "      <th>Follow-up #</th>\n",
       "      <th>Patient ID</th>\n",
       "      <th>Patient Age</th>\n",
       "      <th>Patient Gender</th>\n",
       "      <th>View Position</th>\n",
       "      <th>OriginalImageWidth</th>\n",
       "      <th>OriginalImageHeight</th>\n",
       "      <th>OriginalImagePixelSpacing_x</th>\n",
       "      <th>...</th>\n",
       "      <th>Emphysema</th>\n",
       "      <th>Fibrosis</th>\n",
       "      <th>Hernia</th>\n",
       "      <th>Infiltration</th>\n",
       "      <th>Mass</th>\n",
       "      <th>No Finding</th>\n",
       "      <th>Nodule</th>\n",
       "      <th>Pleural_Thickening</th>\n",
       "      <th>Pneumonia</th>\n",
       "      <th>Pneumothorax</th>\n",
       "    </tr>\n",
       "  </thead>\n",
       "  <tbody>\n",
       "    <tr>\n",
       "      <th>3314</th>\n",
       "      <td>00016399_018.png</td>\n",
       "      <td>Infiltration|Nodule</td>\n",
       "      <td>18</td>\n",
       "      <td>16399</td>\n",
       "      <td>056Y</td>\n",
       "      <td>F</td>\n",
       "      <td>AP</td>\n",
       "      <td>2500</td>\n",
       "      <td>2048</td>\n",
       "      <td>0.168</td>\n",
       "      <td>...</td>\n",
       "      <td>0.0</td>\n",
       "      <td>0.0</td>\n",
       "      <td>0.0</td>\n",
       "      <td>1.0</td>\n",
       "      <td>0.0</td>\n",
       "      <td>0.0</td>\n",
       "      <td>1.0</td>\n",
       "      <td>0.0</td>\n",
       "      <td>0.0</td>\n",
       "      <td>0.0</td>\n",
       "    </tr>\n",
       "    <tr>\n",
       "      <th>1697</th>\n",
       "      <td>00008841_051.png</td>\n",
       "      <td>Mass</td>\n",
       "      <td>51</td>\n",
       "      <td>8841</td>\n",
       "      <td>051Y</td>\n",
       "      <td>F</td>\n",
       "      <td>AP</td>\n",
       "      <td>2500</td>\n",
       "      <td>2048</td>\n",
       "      <td>0.168</td>\n",
       "      <td>...</td>\n",
       "      <td>0.0</td>\n",
       "      <td>0.0</td>\n",
       "      <td>0.0</td>\n",
       "      <td>0.0</td>\n",
       "      <td>1.0</td>\n",
       "      <td>0.0</td>\n",
       "      <td>0.0</td>\n",
       "      <td>0.0</td>\n",
       "      <td>0.0</td>\n",
       "      <td>0.0</td>\n",
       "    </tr>\n",
       "    <tr>\n",
       "      <th>484</th>\n",
       "      <td>00002529_020.png</td>\n",
       "      <td>Infiltration</td>\n",
       "      <td>20</td>\n",
       "      <td>2529</td>\n",
       "      <td>018Y</td>\n",
       "      <td>F</td>\n",
       "      <td>AP</td>\n",
       "      <td>2500</td>\n",
       "      <td>2048</td>\n",
       "      <td>0.168</td>\n",
       "      <td>...</td>\n",
       "      <td>0.0</td>\n",
       "      <td>0.0</td>\n",
       "      <td>0.0</td>\n",
       "      <td>1.0</td>\n",
       "      <td>0.0</td>\n",
       "      <td>0.0</td>\n",
       "      <td>0.0</td>\n",
       "      <td>0.0</td>\n",
       "      <td>0.0</td>\n",
       "      <td>0.0</td>\n",
       "    </tr>\n",
       "  </tbody>\n",
       "</table>\n",
       "<p>3 rows × 26 columns</p>\n",
       "</div>"
      ],
      "text/plain": [
       "           Image Index       Finding Labels  Follow-up #  Patient ID  \\\n",
       "3314  00016399_018.png  Infiltration|Nodule           18       16399   \n",
       "1697  00008841_051.png                 Mass           51        8841   \n",
       "484   00002529_020.png         Infiltration           20        2529   \n",
       "\n",
       "     Patient Age Patient Gender View Position  OriginalImageWidth  \\\n",
       "3314        056Y              F            AP                2500   \n",
       "1697        051Y              F            AP                2500   \n",
       "484         018Y              F            AP                2500   \n",
       "\n",
       "      OriginalImageHeight  OriginalImagePixelSpacing_x  ...  Emphysema  \\\n",
       "3314                 2048                        0.168  ...        0.0   \n",
       "1697                 2048                        0.168  ...        0.0   \n",
       "484                  2048                        0.168  ...        0.0   \n",
       "\n",
       "      Fibrosis  Hernia  Infiltration  Mass  No Finding  Nodule  \\\n",
       "3314       0.0     0.0           1.0   0.0         0.0     1.0   \n",
       "1697       0.0     0.0           0.0   1.0         0.0     0.0   \n",
       "484        0.0     0.0           1.0   0.0         0.0     0.0   \n",
       "\n",
       "      Pleural_Thickening  Pneumonia  Pneumothorax  \n",
       "3314                 0.0        0.0           0.0  \n",
       "1697                 0.0        0.0           0.0  \n",
       "484                  0.0        0.0           0.0  \n",
       "\n",
       "[3 rows x 26 columns]"
      ]
     },
     "execution_count": 19,
     "metadata": {},
     "output_type": "execute_result"
    }
   ],
   "source": [
    "all_labels = np.unique(list(chain(*sample_df['Finding Labels'].map(lambda x: x.split('|')).tolist())))\n",
    "all_labels = [x for x in all_labels if len(x)>0]\n",
    "print('All Labels ({}): {}'.format(len(all_labels), all_labels))\n",
    "for c_label in all_labels:\n",
    "    if len(c_label)>1: # leave out empty labels\n",
    "        sample_df[c_label] = sample_df['Finding Labels'].map(lambda finding: 1.0 if c_label in finding else 0)\n",
    "sample_df.sample(3)"
   ]
  },
  {
   "cell_type": "code",
   "execution_count": 20,
   "metadata": {},
   "outputs": [],
   "source": [
    "images_paths={}\n",
    "for label in all_labels:\n",
    "    if label=='Pneumonia':\n",
    "        images_paths[label]=[glob(os.path.join(\"/data\",\"images*\",\"*\",img_id))[0] for img_id in sample_df[sample_df[label]==1]['Image Index']]\n",
    "    else:\n",
    "        images_paths['non_Pneumonia']=[glob(os.path.join(\"/data\",\"images*\",\"*\",img_id))[0] for img_id in sample_df[sample_df[label]==1]['Image Index']]\n",
    "    "
   ]
  },
  {
   "cell_type": "code",
   "execution_count": 21,
   "metadata": {},
   "outputs": [
    {
     "data": {
      "text/plain": [
       "<matplotlib.image.AxesImage at 0x7fe187d58b10>"
      ]
     },
     "execution_count": 21,
     "metadata": {},
     "output_type": "execute_result"
    },
    {
     "data": {
      "image/png": "[encoded data removed]",
      "text/plain": [
       "<Figure size 432x288 with 1 Axes>"
      ]
     },
     "metadata": {
      "needs_background": "light"
     },
     "output_type": "display_data"
    }
   ],
   "source": [
    "example_Pneumonia=images_paths['Pneumonia'][2]\n",
    "img_Pneumonia = io.imread(example_Pneumonia)\n",
    "plt.imshow(img_Pneumonia,cmap='gray')"
   ]
  },
  {
   "cell_type": "code",
   "execution_count": 22,
   "metadata": {},
   "outputs": [
    {
     "data": {
      "text/plain": [
       "(array([7.3927e+04, 4.0000e+00, 3.2000e+01, 4.6000e+01, 1.6100e+02,\n",
       "        9.0000e+01, 1.3000e+02, 4.1000e+01, 3.7000e+01, 7.1000e+01,\n",
       "        2.6400e+02, 2.3300e+02, 1.2220e+03, 2.4770e+03, 4.1520e+03,\n",
       "        5.2320e+03, 9.5230e+03, 2.3766e+04, 1.6800e+04, 8.2710e+03,\n",
       "        7.7750e+03, 9.9350e+03, 7.0840e+03, 3.9180e+03, 2.6160e+03,\n",
       "        2.3900e+03, 1.6650e+03, 1.2210e+03, 1.1040e+03, 1.0820e+03,\n",
       "        9.3900e+02, 1.0020e+03, 9.7700e+02, 9.5700e+02, 9.4600e+02,\n",
       "        9.9200e+02, 9.6100e+02, 1.0490e+03, 9.5200e+02, 9.6700e+02,\n",
       "        1.0090e+03, 1.0290e+03, 1.0520e+03, 1.0570e+03, 1.1080e+03,\n",
       "        1.0780e+03, 1.0760e+03, 1.1120e+03, 1.0800e+03, 1.1300e+03,\n",
       "        9.8300e+02, 0.0000e+00, 1.0650e+03, 1.1020e+03, 1.0430e+03,\n",
       "        1.0560e+03, 9.8900e+02, 1.0010e+03, 1.0410e+03, 1.0480e+03,\n",
       "        1.0850e+03, 1.1630e+03, 1.2230e+03, 1.2460e+03, 1.2800e+03,\n",
       "        1.3810e+03, 1.4570e+03, 1.4610e+03, 1.5430e+03, 1.6050e+03,\n",
       "        1.6850e+03, 1.6910e+03, 1.8290e+03, 1.9240e+03, 2.0490e+03,\n",
       "        2.1370e+03, 2.2760e+03, 2.5480e+03, 2.4920e+03, 2.6840e+03,\n",
       "        2.7900e+03, 2.7260e+03, 2.8010e+03, 2.9300e+03, 2.9370e+03,\n",
       "        3.1610e+03, 3.3490e+03, 3.3570e+03, 3.2730e+03, 3.2780e+03,\n",
       "        3.4610e+03, 3.4940e+03, 3.6500e+03, 3.6940e+03, 3.6020e+03,\n",
       "        3.5980e+03, 3.5950e+03, 3.7410e+03, 3.9330e+03, 3.9500e+03,\n",
       "        4.0450e+03, 4.0590e+03, 0.0000e+00, 4.2470e+03, 4.2580e+03,\n",
       "        4.1260e+03, 4.1920e+03, 3.9380e+03, 3.9090e+03, 4.0220e+03,\n",
       "        4.0410e+03, 3.8900e+03, 3.9640e+03, 3.7790e+03, 3.7750e+03,\n",
       "        3.7290e+03, 3.6930e+03, 3.6370e+03, 3.6860e+03, 3.7710e+03,\n",
       "        3.5710e+03, 3.5280e+03, 3.4880e+03, 3.2750e+03, 3.3190e+03,\n",
       "        3.3010e+03, 3.0620e+03, 3.0470e+03, 2.9180e+03, 2.8220e+03,\n",
       "        2.7900e+03, 2.8160e+03, 2.8820e+03, 3.0060e+03, 3.0580e+03,\n",
       "        3.1600e+03, 3.1040e+03, 3.0450e+03, 2.9750e+03, 2.9890e+03,\n",
       "        3.1000e+03, 3.3010e+03, 3.2580e+03, 3.3700e+03, 3.3490e+03,\n",
       "        3.5030e+03, 3.6580e+03, 3.7000e+03, 3.7740e+03, 3.8670e+03,\n",
       "        3.6830e+03, 3.8750e+03, 3.8540e+03, 0.0000e+00, 3.9780e+03,\n",
       "        4.0690e+03, 4.1310e+03, 4.1410e+03, 4.2100e+03, 4.0600e+03,\n",
       "        4.3650e+03, 4.2080e+03, 4.5930e+03, 4.6080e+03, 4.5190e+03,\n",
       "        4.4540e+03, 4.6600e+03, 4.7320e+03, 4.8970e+03, 4.9770e+03,\n",
       "        5.0270e+03, 4.8530e+03, 5.0000e+03, 5.1270e+03, 5.3410e+03,\n",
       "        5.5730e+03, 5.9840e+03, 6.1660e+03, 6.4900e+03, 6.7250e+03,\n",
       "        6.7700e+03, 6.8220e+03, 6.9200e+03, 6.9440e+03, 7.0780e+03,\n",
       "        6.8650e+03, 6.8740e+03, 6.8990e+03, 6.7250e+03, 6.9040e+03,\n",
       "        7.5820e+03, 8.2390e+03, 8.5820e+03, 8.0650e+03, 7.8070e+03,\n",
       "        7.7370e+03, 7.0600e+03, 6.3010e+03, 5.7940e+03, 5.6490e+03,\n",
       "        5.6840e+03, 5.5430e+03, 5.2530e+03, 4.9600e+03, 0.0000e+00,\n",
       "        4.9300e+03, 4.8430e+03, 4.8330e+03, 4.9560e+03, 5.2230e+03,\n",
       "        5.5190e+03, 5.7870e+03, 6.3250e+03, 6.2330e+03, 6.2820e+03,\n",
       "        7.0170e+03, 7.5120e+03, 7.9030e+03, 8.0480e+03, 7.3910e+03,\n",
       "        7.2520e+03, 7.5010e+03, 7.2960e+03, 7.4710e+03, 7.7460e+03,\n",
       "        8.3810e+03, 9.3940e+03, 1.0539e+04, 1.0954e+04, 1.0161e+04,\n",
       "        9.2430e+03, 9.0050e+03, 8.9290e+03, 8.0710e+03, 6.9160e+03,\n",
       "        5.9470e+03, 5.4460e+03, 3.8430e+03, 2.5110e+03, 1.8120e+03,\n",
       "        1.4930e+03, 1.2780e+03, 1.3630e+03, 1.7330e+03, 1.9270e+03,\n",
       "        1.8590e+03, 1.9840e+03, 1.8190e+03, 1.5990e+03, 1.0660e+03,\n",
       "        4.3800e+02, 1.6600e+02, 1.0700e+02, 1.2400e+02, 9.4000e+01,\n",
       "        3.0000e+00]),\n",
       " array([  0.        ,   0.98046875,   1.9609375 ,   2.94140625,\n",
       "          3.921875  ,   4.90234375,   5.8828125 ,   6.86328125,\n",
       "          7.84375   ,   8.82421875,   9.8046875 ,  10.78515625,\n",
       "         11.765625  ,  12.74609375,  13.7265625 ,  14.70703125,\n",
       "         15.6875    ,  16.66796875,  17.6484375 ,  18.62890625,\n",
       "         19.609375  ,  20.58984375,  21.5703125 ,  22.55078125,\n",
       "         23.53125   ,  24.51171875,  25.4921875 ,  26.47265625,\n",
       "         27.453125  ,  28.43359375,  29.4140625 ,  30.39453125,\n",
       "         31.375     ,  32.35546875,  33.3359375 ,  34.31640625,\n",
       "         35.296875  ,  36.27734375,  37.2578125 ,  38.23828125,\n",
       "         39.21875   ,  40.19921875,  41.1796875 ,  42.16015625,\n",
       "         43.140625  ,  44.12109375,  45.1015625 ,  46.08203125,\n",
       "         47.0625    ,  48.04296875,  49.0234375 ,  50.00390625,\n",
       "         50.984375  ,  51.96484375,  52.9453125 ,  53.92578125,\n",
       "         54.90625   ,  55.88671875,  56.8671875 ,  57.84765625,\n",
       "         58.828125  ,  59.80859375,  60.7890625 ,  61.76953125,\n",
       "         62.75      ,  63.73046875,  64.7109375 ,  65.69140625,\n",
       "         66.671875  ,  67.65234375,  68.6328125 ,  69.61328125,\n",
       "         70.59375   ,  71.57421875,  72.5546875 ,  73.53515625,\n",
       "         74.515625  ,  75.49609375,  76.4765625 ,  77.45703125,\n",
       "         78.4375    ,  79.41796875,  80.3984375 ,  81.37890625,\n",
       "         82.359375  ,  83.33984375,  84.3203125 ,  85.30078125,\n",
       "         86.28125   ,  87.26171875,  88.2421875 ,  89.22265625,\n",
       "         90.203125  ,  91.18359375,  92.1640625 ,  93.14453125,\n",
       "         94.125     ,  95.10546875,  96.0859375 ,  97.06640625,\n",
       "         98.046875  ,  99.02734375, 100.0078125 , 100.98828125,\n",
       "        101.96875   , 102.94921875, 103.9296875 , 104.91015625,\n",
       "        105.890625  , 106.87109375, 107.8515625 , 108.83203125,\n",
       "        109.8125    , 110.79296875, 111.7734375 , 112.75390625,\n",
       "        113.734375  , 114.71484375, 115.6953125 , 116.67578125,\n",
       "        117.65625   , 118.63671875, 119.6171875 , 120.59765625,\n",
       "        121.578125  , 122.55859375, 123.5390625 , 124.51953125,\n",
       "        125.5       , 126.48046875, 127.4609375 , 128.44140625,\n",
       "        129.421875  , 130.40234375, 131.3828125 , 132.36328125,\n",
       "        133.34375   , 134.32421875, 135.3046875 , 136.28515625,\n",
       "        137.265625  , 138.24609375, 139.2265625 , 140.20703125,\n",
       "        141.1875    , 142.16796875, 143.1484375 , 144.12890625,\n",
       "        145.109375  , 146.08984375, 147.0703125 , 148.05078125,\n",
       "        149.03125   , 150.01171875, 150.9921875 , 151.97265625,\n",
       "        152.953125  , 153.93359375, 154.9140625 , 155.89453125,\n",
       "        156.875     , 157.85546875, 158.8359375 , 159.81640625,\n",
       "        160.796875  , 161.77734375, 162.7578125 , 163.73828125,\n",
       "        164.71875   , 165.69921875, 166.6796875 , 167.66015625,\n",
       "        168.640625  , 169.62109375, 170.6015625 , 171.58203125,\n",
       "        172.5625    , 173.54296875, 174.5234375 , 175.50390625,\n",
       "        176.484375  , 177.46484375, 178.4453125 , 179.42578125,\n",
       "        180.40625   , 181.38671875, 182.3671875 , 183.34765625,\n",
       "        184.328125  , 185.30859375, 186.2890625 , 187.26953125,\n",
       "        188.25      , 189.23046875, 190.2109375 , 191.19140625,\n",
       "        192.171875  , 193.15234375, 194.1328125 , 195.11328125,\n",
       "        196.09375   , 197.07421875, 198.0546875 , 199.03515625,\n",
       "        200.015625  , 200.99609375, 201.9765625 , 202.95703125,\n",
       "        203.9375    , 204.91796875, 205.8984375 , 206.87890625,\n",
       "        207.859375  , 208.83984375, 209.8203125 , 210.80078125,\n",
       "        211.78125   , 212.76171875, 213.7421875 , 214.72265625,\n",
       "        215.703125  , 216.68359375, 217.6640625 , 218.64453125,\n",
       "        219.625     , 220.60546875, 221.5859375 , 222.56640625,\n",
       "        223.546875  , 224.52734375, 225.5078125 , 226.48828125,\n",
       "        227.46875   , 228.44921875, 229.4296875 , 230.41015625,\n",
       "        231.390625  , 232.37109375, 233.3515625 , 234.33203125,\n",
       "        235.3125    , 236.29296875, 237.2734375 , 238.25390625,\n",
       "        239.234375  , 240.21484375, 241.1953125 , 242.17578125,\n",
       "        243.15625   , 244.13671875, 245.1171875 , 246.09765625,\n",
       "        247.078125  , 248.05859375, 249.0390625 , 250.01953125,\n",
       "        251.        ]),\n",
       " <a list of 256 Patch objects>)"
      ]
     },
     "execution_count": 22,
     "metadata": {},
     "output_type": "execute_result"
    },
    {
     "data": {
      "image/png": "[encoded data removed]",
      "text/plain": [
       "<Figure size 360x360 with 1 Axes>"
      ]
     },
     "metadata": {
      "needs_background": "light"
     },
     "output_type": "display_data"
    }
   ],
   "source": [
    "plt.figure(figsize=(5,5))\n",
    "plt.hist(img_Pneumonia.ravel(), bins = 256)"
   ]
  },
  {
   "cell_type": "code",
   "execution_count": 23,
   "metadata": {},
   "outputs": [
    {
     "data": {
      "text/plain": [
       "<matplotlib.image.AxesImage at 0x7fe1879ec090>"
      ]
     },
     "execution_count": 23,
     "metadata": {},
     "output_type": "execute_result"
    },
    {
     "data": {
      "image/png": "[encoded data removed]",
      "text/plain": [
       "<Figure size 432x288 with 1 Axes>"
      ]
     },
     "metadata": {
      "needs_background": "light"
     },
     "output_type": "display_data"
    }
   ],
   "source": [
    "example_non_Pneumonia=images_paths['non_Pneumonia'][0]\n",
    "img_non_Pneumonia = io.imread(example_non_Pneumonia)\n",
    "plt.imshow(img_non_Pneumonia,cmap='gray')"
   ]
  },
  {
   "cell_type": "code",
   "execution_count": 24,
   "metadata": {},
   "outputs": [
    {
     "data": {
      "text/plain": [
       "(array([8.0060e+03, 2.6750e+03, 9.3870e+03, 5.7800e+03, 8.4970e+03,\n",
       "        4.8420e+03, 2.9400e+03, 2.6620e+03, 2.4830e+03, 2.3340e+03,\n",
       "        2.3470e+03, 2.1130e+03, 1.9990e+03, 1.8000e+03, 1.8150e+03,\n",
       "        1.8920e+03, 2.1080e+03, 1.9840e+03, 2.2790e+03, 2.5660e+03,\n",
       "        2.7810e+03, 3.0020e+03, 3.1660e+03, 3.3690e+03, 3.6240e+03,\n",
       "        3.5080e+03, 3.5220e+03, 3.8180e+03, 3.7190e+03, 3.9750e+03,\n",
       "        4.1590e+03, 4.2630e+03, 4.4090e+03, 4.6070e+03, 4.7100e+03,\n",
       "        4.9760e+03, 5.1290e+03, 5.1750e+03, 5.1480e+03, 5.1240e+03,\n",
       "        4.9830e+03, 4.9170e+03, 4.8480e+03, 4.7830e+03, 4.8350e+03,\n",
       "        4.8060e+03, 4.8580e+03, 4.6920e+03, 4.5850e+03, 4.3910e+03,\n",
       "        4.3930e+03, 4.3860e+03, 4.3240e+03, 4.3620e+03, 4.1790e+03,\n",
       "        4.2860e+03, 4.2930e+03, 4.3430e+03, 4.4170e+03, 4.7170e+03,\n",
       "        4.7860e+03, 4.9150e+03, 4.9270e+03, 5.0610e+03, 5.1120e+03,\n",
       "        5.0040e+03, 5.0820e+03, 5.4980e+03, 5.7430e+03, 6.1370e+03,\n",
       "        6.4180e+03, 6.7260e+03, 6.7950e+03, 6.8630e+03, 7.2030e+03,\n",
       "        6.9840e+03, 7.0930e+03, 7.2150e+03, 7.5710e+03, 7.7300e+03,\n",
       "        8.0140e+03, 8.0690e+03, 8.1590e+03, 8.2540e+03, 8.3300e+03,\n",
       "        8.5140e+03, 8.9600e+03, 9.3150e+03, 9.5380e+03, 9.7220e+03,\n",
       "        9.9770e+03, 1.0055e+04, 1.0138e+04, 1.0321e+04, 1.0420e+04,\n",
       "        1.0551e+04, 1.0571e+04, 1.0485e+04, 1.0133e+04, 9.7210e+03,\n",
       "        9.2570e+03, 8.9770e+03, 9.0080e+03, 8.7410e+03, 8.7500e+03,\n",
       "        8.6320e+03, 9.4720e+03, 9.4740e+03, 9.5150e+03, 9.5720e+03,\n",
       "        9.5020e+03, 9.1850e+03, 9.4440e+03, 9.5190e+03, 9.5880e+03,\n",
       "        9.8840e+03, 9.5230e+03, 9.4380e+03, 9.1190e+03, 8.9330e+03,\n",
       "        8.7630e+03, 8.6010e+03, 8.1030e+03, 8.1110e+03, 7.7940e+03,\n",
       "        7.9090e+03, 7.6960e+03, 7.4210e+03, 7.3400e+03, 7.1240e+03,\n",
       "        6.9610e+03, 6.7810e+03, 6.4720e+03, 6.4030e+03, 6.2330e+03,\n",
       "        5.9960e+03, 5.9010e+03, 5.6850e+03, 5.4250e+03, 5.3300e+03,\n",
       "        4.9930e+03, 4.8050e+03, 4.6100e+03, 4.6810e+03, 4.5500e+03,\n",
       "        4.4670e+03, 4.3760e+03, 4.2140e+03, 4.2970e+03, 4.2790e+03,\n",
       "        4.2620e+03, 4.0750e+03, 4.0750e+03, 4.0110e+03, 3.9870e+03,\n",
       "        3.9000e+03, 3.9070e+03, 4.0130e+03, 4.2150e+03, 4.4310e+03,\n",
       "        4.4680e+03, 4.4640e+03, 4.3560e+03, 4.3400e+03, 4.3710e+03,\n",
       "        4.4040e+03, 4.4970e+03, 4.5540e+03, 4.5560e+03, 4.7200e+03,\n",
       "        4.6180e+03, 4.3680e+03, 3.8970e+03, 3.6400e+03, 3.1870e+03,\n",
       "        2.7940e+03, 2.3430e+03, 1.9990e+03, 1.6760e+03, 1.2380e+03,\n",
       "        8.9200e+02, 6.5200e+02, 4.8500e+02, 3.3100e+02, 2.3300e+02,\n",
       "        1.7900e+02, 1.4200e+02, 8.3000e+01, 7.7000e+01, 7.3000e+01,\n",
       "        6.3000e+01, 5.1000e+01, 4.2000e+01, 6.8000e+01, 4.9000e+01,\n",
       "        5.3000e+01, 7.3000e+01, 6.8000e+01, 6.1000e+01, 6.5000e+01,\n",
       "        6.3000e+01, 5.7000e+01, 5.6000e+01, 5.3000e+01, 6.3000e+01,\n",
       "        5.3000e+01, 8.3000e+01, 1.0200e+02, 9.9000e+01, 8.3000e+01,\n",
       "        5.3000e+01, 4.9000e+01, 4.3000e+01, 3.4000e+01, 1.5000e+01,\n",
       "        7.0000e+00, 2.0000e+00, 4.0000e+00, 5.0000e+00, 8.0000e+00,\n",
       "        1.7000e+01, 2.2000e+01, 1.2000e+01, 9.0000e+00, 4.0000e+00,\n",
       "        4.0000e+00, 1.6000e+01, 1.2000e+01, 8.0000e+00, 2.0000e+00,\n",
       "        3.0000e+00, 1.0000e+01, 1.0000e+01, 1.5000e+01, 1.2000e+01,\n",
       "        1.1000e+01, 2.8000e+01, 5.8000e+01, 3.1000e+01, 4.4000e+01,\n",
       "        2.9000e+01, 2.3000e+01, 2.4000e+01, 4.3000e+01, 5.0000e+01,\n",
       "        6.4000e+01, 6.0000e+01, 4.7000e+01, 1.5000e+01, 1.2000e+01,\n",
       "        1.6000e+01, 1.0000e+01, 5.0000e+00, 1.0000e+01, 3.5000e+01,\n",
       "        7.1200e+02]),\n",
       " array([  0.        ,   0.99609375,   1.9921875 ,   2.98828125,\n",
       "          3.984375  ,   4.98046875,   5.9765625 ,   6.97265625,\n",
       "          7.96875   ,   8.96484375,   9.9609375 ,  10.95703125,\n",
       "         11.953125  ,  12.94921875,  13.9453125 ,  14.94140625,\n",
       "         15.9375    ,  16.93359375,  17.9296875 ,  18.92578125,\n",
       "         19.921875  ,  20.91796875,  21.9140625 ,  22.91015625,\n",
       "         23.90625   ,  24.90234375,  25.8984375 ,  26.89453125,\n",
       "         27.890625  ,  28.88671875,  29.8828125 ,  30.87890625,\n",
       "         31.875     ,  32.87109375,  33.8671875 ,  34.86328125,\n",
       "         35.859375  ,  36.85546875,  37.8515625 ,  38.84765625,\n",
       "         39.84375   ,  40.83984375,  41.8359375 ,  42.83203125,\n",
       "         43.828125  ,  44.82421875,  45.8203125 ,  46.81640625,\n",
       "         47.8125    ,  48.80859375,  49.8046875 ,  50.80078125,\n",
       "         51.796875  ,  52.79296875,  53.7890625 ,  54.78515625,\n",
       "         55.78125   ,  56.77734375,  57.7734375 ,  58.76953125,\n",
       "         59.765625  ,  60.76171875,  61.7578125 ,  62.75390625,\n",
       "         63.75      ,  64.74609375,  65.7421875 ,  66.73828125,\n",
       "         67.734375  ,  68.73046875,  69.7265625 ,  70.72265625,\n",
       "         71.71875   ,  72.71484375,  73.7109375 ,  74.70703125,\n",
       "         75.703125  ,  76.69921875,  77.6953125 ,  78.69140625,\n",
       "         79.6875    ,  80.68359375,  81.6796875 ,  82.67578125,\n",
       "         83.671875  ,  84.66796875,  85.6640625 ,  86.66015625,\n",
       "         87.65625   ,  88.65234375,  89.6484375 ,  90.64453125,\n",
       "         91.640625  ,  92.63671875,  93.6328125 ,  94.62890625,\n",
       "         95.625     ,  96.62109375,  97.6171875 ,  98.61328125,\n",
       "         99.609375  , 100.60546875, 101.6015625 , 102.59765625,\n",
       "        103.59375   , 104.58984375, 105.5859375 , 106.58203125,\n",
       "        107.578125  , 108.57421875, 109.5703125 , 110.56640625,\n",
       "        111.5625    , 112.55859375, 113.5546875 , 114.55078125,\n",
       "        115.546875  , 116.54296875, 117.5390625 , 118.53515625,\n",
       "        119.53125   , 120.52734375, 121.5234375 , 122.51953125,\n",
       "        123.515625  , 124.51171875, 125.5078125 , 126.50390625,\n",
       "        127.5       , 128.49609375, 129.4921875 , 130.48828125,\n",
       "        131.484375  , 132.48046875, 133.4765625 , 134.47265625,\n",
       "        135.46875   , 136.46484375, 137.4609375 , 138.45703125,\n",
       "        139.453125  , 140.44921875, 141.4453125 , 142.44140625,\n",
       "        143.4375    , 144.43359375, 145.4296875 , 146.42578125,\n",
       "        147.421875  , 148.41796875, 149.4140625 , 150.41015625,\n",
       "        151.40625   , 152.40234375, 153.3984375 , 154.39453125,\n",
       "        155.390625  , 156.38671875, 157.3828125 , 158.37890625,\n",
       "        159.375     , 160.37109375, 161.3671875 , 162.36328125,\n",
       "        163.359375  , 164.35546875, 165.3515625 , 166.34765625,\n",
       "        167.34375   , 168.33984375, 169.3359375 , 170.33203125,\n",
       "        171.328125  , 172.32421875, 173.3203125 , 174.31640625,\n",
       "        175.3125    , 176.30859375, 177.3046875 , 178.30078125,\n",
       "        179.296875  , 180.29296875, 181.2890625 , 182.28515625,\n",
       "        183.28125   , 184.27734375, 185.2734375 , 186.26953125,\n",
       "        187.265625  , 188.26171875, 189.2578125 , 190.25390625,\n",
       "        191.25      , 192.24609375, 193.2421875 , 194.23828125,\n",
       "        195.234375  , 196.23046875, 197.2265625 , 198.22265625,\n",
       "        199.21875   , 200.21484375, 201.2109375 , 202.20703125,\n",
       "        203.203125  , 204.19921875, 205.1953125 , 206.19140625,\n",
       "        207.1875    , 208.18359375, 209.1796875 , 210.17578125,\n",
       "        211.171875  , 212.16796875, 213.1640625 , 214.16015625,\n",
       "        215.15625   , 216.15234375, 217.1484375 , 218.14453125,\n",
       "        219.140625  , 220.13671875, 221.1328125 , 222.12890625,\n",
       "        223.125     , 224.12109375, 225.1171875 , 226.11328125,\n",
       "        227.109375  , 228.10546875, 229.1015625 , 230.09765625,\n",
       "        231.09375   , 232.08984375, 233.0859375 , 234.08203125,\n",
       "        235.078125  , 236.07421875, 237.0703125 , 238.06640625,\n",
       "        239.0625    , 240.05859375, 241.0546875 , 242.05078125,\n",
       "        243.046875  , 244.04296875, 245.0390625 , 246.03515625,\n",
       "        247.03125   , 248.02734375, 249.0234375 , 250.01953125,\n",
       "        251.015625  , 252.01171875, 253.0078125 , 254.00390625,\n",
       "        255.        ]),\n",
       " <a list of 256 Patch objects>)"
      ]
     },
     "execution_count": 24,
     "metadata": {},
     "output_type": "execute_result"
    },
    {
     "data": {
      "image/png": "[encoded data removed]",
      "text/plain": [
       "<Figure size 360x360 with 1 Axes>"
      ]
     },
     "metadata": {
      "needs_background": "light"
     },
     "output_type": "display_data"
    }
   ],
   "source": [
    "plt.figure(figsize=(5,5))\n",
    "plt.hist(img_non_Pneumonia.ravel(), bins = 256)"
   ]
  },
  {
   "cell_type": "code",
   "execution_count": 25,
   "metadata": {},
   "outputs": [],
   "source": [
    "def standerdization(img):\n",
    "    mean_intensity = np.mean(img)\n",
    "    std_intensity = np.std(img)\n",
    "    new_img = img.copy()\n",
    "    new_img = (new_img - mean_intensity)/std_intensity\n",
    "    return new_img"
   ]
  },
  {
   "cell_type": "code",
   "execution_count": 26,
   "metadata": {},
   "outputs": [],
   "source": [
    "new_img_Pneumonia=standerdization(img_Pneumonia)"
   ]
  },
  {
   "cell_type": "code",
   "execution_count": 27,
   "metadata": {},
   "outputs": [
    {
     "data": {
      "text/plain": [
       "(array([7.3927e+04, 4.0000e+00, 3.2000e+01, 4.6000e+01, 1.6100e+02,\n",
       "        9.0000e+01, 1.3000e+02, 4.1000e+01, 3.7000e+01, 7.1000e+01,\n",
       "        2.6400e+02, 2.3300e+02, 1.2220e+03, 2.4770e+03, 4.1520e+03,\n",
       "        5.2320e+03, 9.5230e+03, 2.3766e+04, 1.6800e+04, 8.2710e+03,\n",
       "        7.7750e+03, 9.9350e+03, 7.0840e+03, 3.9180e+03, 2.6160e+03,\n",
       "        2.3900e+03, 1.6650e+03, 1.2210e+03, 1.1040e+03, 1.0820e+03,\n",
       "        9.3900e+02, 1.0020e+03, 9.7700e+02, 9.5700e+02, 9.4600e+02,\n",
       "        9.9200e+02, 9.6100e+02, 1.0490e+03, 9.5200e+02, 9.6700e+02,\n",
       "        1.0090e+03, 1.0290e+03, 1.0520e+03, 1.0570e+03, 1.1080e+03,\n",
       "        1.0780e+03, 1.0760e+03, 1.1120e+03, 1.0800e+03, 1.1300e+03,\n",
       "        9.8300e+02, 0.0000e+00, 1.0650e+03, 1.1020e+03, 1.0430e+03,\n",
       "        1.0560e+03, 9.8900e+02, 1.0010e+03, 1.0410e+03, 1.0480e+03,\n",
       "        1.0850e+03, 1.1630e+03, 1.2230e+03, 1.2460e+03, 1.2800e+03,\n",
       "        1.3810e+03, 1.4570e+03, 1.4610e+03, 1.5430e+03, 1.6050e+03,\n",
       "        1.6850e+03, 1.6910e+03, 1.8290e+03, 1.9240e+03, 2.0490e+03,\n",
       "        2.1370e+03, 2.2760e+03, 2.5480e+03, 2.4920e+03, 2.6840e+03,\n",
       "        2.7900e+03, 2.7260e+03, 2.8010e+03, 2.9300e+03, 2.9370e+03,\n",
       "        3.1610e+03, 3.3490e+03, 3.3570e+03, 3.2730e+03, 3.2780e+03,\n",
       "        3.4610e+03, 3.4940e+03, 3.6500e+03, 3.6940e+03, 3.6020e+03,\n",
       "        3.5980e+03, 3.5950e+03, 3.7410e+03, 3.9330e+03, 3.9500e+03,\n",
       "        4.0450e+03, 4.0590e+03, 0.0000e+00, 4.2470e+03, 4.2580e+03,\n",
       "        4.1260e+03, 4.1920e+03, 3.9380e+03, 3.9090e+03, 4.0220e+03,\n",
       "        4.0410e+03, 3.8900e+03, 3.9640e+03, 3.7790e+03, 3.7750e+03,\n",
       "        3.7290e+03, 3.6930e+03, 3.6370e+03, 3.6860e+03, 3.7710e+03,\n",
       "        3.5710e+03, 3.5280e+03, 3.4880e+03, 3.2750e+03, 3.3190e+03,\n",
       "        3.3010e+03, 3.0620e+03, 3.0470e+03, 2.9180e+03, 2.8220e+03,\n",
       "        2.7900e+03, 2.8160e+03, 2.8820e+03, 3.0060e+03, 3.0580e+03,\n",
       "        3.1600e+03, 3.1040e+03, 3.0450e+03, 2.9750e+03, 2.9890e+03,\n",
       "        3.1000e+03, 3.3010e+03, 3.2580e+03, 3.3700e+03, 3.3490e+03,\n",
       "        3.5030e+03, 3.6580e+03, 3.7000e+03, 3.7740e+03, 3.8670e+03,\n",
       "        3.6830e+03, 3.8750e+03, 3.8540e+03, 0.0000e+00, 3.9780e+03,\n",
       "        4.0690e+03, 4.1310e+03, 4.1410e+03, 4.2100e+03, 4.0600e+03,\n",
       "        4.3650e+03, 4.2080e+03, 4.5930e+03, 4.6080e+03, 4.5190e+03,\n",
       "        4.4540e+03, 4.6600e+03, 4.7320e+03, 4.8970e+03, 4.9770e+03,\n",
       "        5.0270e+03, 4.8530e+03, 5.0000e+03, 5.1270e+03, 5.3410e+03,\n",
       "        5.5730e+03, 5.9840e+03, 6.1660e+03, 6.4900e+03, 6.7250e+03,\n",
       "        6.7700e+03, 6.8220e+03, 6.9200e+03, 6.9440e+03, 7.0780e+03,\n",
       "        6.8650e+03, 6.8740e+03, 6.8990e+03, 6.7250e+03, 6.9040e+03,\n",
       "        7.5820e+03, 8.2390e+03, 8.5820e+03, 8.0650e+03, 7.8070e+03,\n",
       "        7.7370e+03, 7.0600e+03, 6.3010e+03, 5.7940e+03, 5.6490e+03,\n",
       "        5.6840e+03, 5.5430e+03, 5.2530e+03, 4.9600e+03, 0.0000e+00,\n",
       "        4.9300e+03, 4.8430e+03, 4.8330e+03, 4.9560e+03, 5.2230e+03,\n",
       "        5.5190e+03, 5.7870e+03, 6.3250e+03, 6.2330e+03, 6.2820e+03,\n",
       "        7.0170e+03, 7.5120e+03, 7.9030e+03, 8.0480e+03, 7.3910e+03,\n",
       "        7.2520e+03, 7.5010e+03, 7.2960e+03, 7.4710e+03, 7.7460e+03,\n",
       "        8.3810e+03, 9.3940e+03, 1.0539e+04, 1.0954e+04, 1.0161e+04,\n",
       "        9.2430e+03, 9.0050e+03, 8.9290e+03, 8.0710e+03, 6.9160e+03,\n",
       "        5.9470e+03, 5.4460e+03, 3.8430e+03, 2.5110e+03, 1.8120e+03,\n",
       "        1.4930e+03, 1.2780e+03, 1.3630e+03, 1.7330e+03, 1.9270e+03,\n",
       "        1.8590e+03, 1.9840e+03, 1.8190e+03, 1.5990e+03, 1.0660e+03,\n",
       "        4.3800e+02, 1.6600e+02, 1.0700e+02, 1.2400e+02, 9.4000e+01,\n",
       "        3.0000e+00]),\n",
       " array([-1.81043681e+00, -1.79740281e+00, -1.78436880e+00, -1.77133479e+00,\n",
       "        -1.75830078e+00, -1.74526677e+00, -1.73223276e+00, -1.71919876e+00,\n",
       "        -1.70616475e+00, -1.69313074e+00, -1.68009673e+00, -1.66706272e+00,\n",
       "        -1.65402871e+00, -1.64099470e+00, -1.62796070e+00, -1.61492669e+00,\n",
       "        -1.60189268e+00, -1.58885867e+00, -1.57582466e+00, -1.56279065e+00,\n",
       "        -1.54975665e+00, -1.53672264e+00, -1.52368863e+00, -1.51065462e+00,\n",
       "        -1.49762061e+00, -1.48458660e+00, -1.47155259e+00, -1.45851859e+00,\n",
       "        -1.44548458e+00, -1.43245057e+00, -1.41941656e+00, -1.40638255e+00,\n",
       "        -1.39334854e+00, -1.38031454e+00, -1.36728053e+00, -1.35424652e+00,\n",
       "        -1.34121251e+00, -1.32817850e+00, -1.31514449e+00, -1.30211048e+00,\n",
       "        -1.28907648e+00, -1.27604247e+00, -1.26300846e+00, -1.24997445e+00,\n",
       "        -1.23694044e+00, -1.22390643e+00, -1.21087243e+00, -1.19783842e+00,\n",
       "        -1.18480441e+00, -1.17177040e+00, -1.15873639e+00, -1.14570238e+00,\n",
       "        -1.13266837e+00, -1.11963437e+00, -1.10660036e+00, -1.09356635e+00,\n",
       "        -1.08053234e+00, -1.06749833e+00, -1.05446432e+00, -1.04143032e+00,\n",
       "        -1.02839631e+00, -1.01536230e+00, -1.00232829e+00, -9.89294282e-01,\n",
       "        -9.76260273e-01, -9.63226265e-01, -9.50192257e-01, -9.37158248e-01,\n",
       "        -9.24124240e-01, -9.11090231e-01, -8.98056223e-01, -8.85022214e-01,\n",
       "        -8.71988206e-01, -8.58954197e-01, -8.45920189e-01, -8.32886180e-01,\n",
       "        -8.19852172e-01, -8.06818164e-01, -7.93784155e-01, -7.80750147e-01,\n",
       "        -7.67716138e-01, -7.54682130e-01, -7.41648121e-01, -7.28614113e-01,\n",
       "        -7.15580104e-01, -7.02546096e-01, -6.89512087e-01, -6.76478079e-01,\n",
       "        -6.63444071e-01, -6.50410062e-01, -6.37376054e-01, -6.24342045e-01,\n",
       "        -6.11308037e-01, -5.98274028e-01, -5.85240020e-01, -5.72206011e-01,\n",
       "        -5.59172003e-01, -5.46137995e-01, -5.33103986e-01, -5.20069978e-01,\n",
       "        -5.07035969e-01, -4.94001961e-01, -4.80967952e-01, -4.67933944e-01,\n",
       "        -4.54899935e-01, -4.41865927e-01, -4.28831918e-01, -4.15797910e-01,\n",
       "        -4.02763902e-01, -3.89729893e-01, -3.76695885e-01, -3.63661876e-01,\n",
       "        -3.50627868e-01, -3.37593859e-01, -3.24559851e-01, -3.11525842e-01,\n",
       "        -2.98491834e-01, -2.85457825e-01, -2.72423817e-01, -2.59389809e-01,\n",
       "        -2.46355800e-01, -2.33321792e-01, -2.20287783e-01, -2.07253775e-01,\n",
       "        -1.94219766e-01, -1.81185758e-01, -1.68151749e-01, -1.55117741e-01,\n",
       "        -1.42083733e-01, -1.29049724e-01, -1.16015716e-01, -1.02981707e-01,\n",
       "        -8.99476987e-02, -7.69136903e-02, -6.38796818e-02, -5.08456734e-02,\n",
       "        -3.78116649e-02, -2.47776565e-02, -1.17436480e-02,  1.29036045e-03,\n",
       "         1.43243689e-02,  2.73583774e-02,  4.03923858e-02,  5.34263943e-02,\n",
       "         6.64604027e-02,  7.94944112e-02,  9.25284196e-02,  1.05562428e-01,\n",
       "         1.18596437e-01,  1.31630445e-01,  1.44664453e-01,  1.57698462e-01,\n",
       "         1.70732470e-01,  1.83766479e-01,  1.96800487e-01,  2.09834496e-01,\n",
       "         2.22868504e-01,  2.35902513e-01,  2.48936521e-01,  2.61970529e-01,\n",
       "         2.75004538e-01,  2.88038546e-01,  3.01072555e-01,  3.14106563e-01,\n",
       "         3.27140572e-01,  3.40174580e-01,  3.53208589e-01,  3.66242597e-01,\n",
       "         3.79276606e-01,  3.92310614e-01,  4.05344622e-01,  4.18378631e-01,\n",
       "         4.31412639e-01,  4.44446648e-01,  4.57480656e-01,  4.70514665e-01,\n",
       "         4.83548673e-01,  4.96582682e-01,  5.09616690e-01,  5.22650699e-01,\n",
       "         5.35684707e-01,  5.48718715e-01,  5.61752724e-01,  5.74786732e-01,\n",
       "         5.87820741e-01,  6.00854749e-01,  6.13888758e-01,  6.26922766e-01,\n",
       "         6.39956775e-01,  6.52990783e-01,  6.66024791e-01,  6.79058800e-01,\n",
       "         6.92092808e-01,  7.05126817e-01,  7.18160825e-01,  7.31194834e-01,\n",
       "         7.44228842e-01,  7.57262851e-01,  7.70296859e-01,  7.83330868e-01,\n",
       "         7.96364876e-01,  8.09398884e-01,  8.22432893e-01,  8.35466901e-01,\n",
       "         8.48500910e-01,  8.61534918e-01,  8.74568927e-01,  8.87602935e-01,\n",
       "         9.00636944e-01,  9.13670952e-01,  9.26704961e-01,  9.39738969e-01,\n",
       "         9.52772977e-01,  9.65806986e-01,  9.78840994e-01,  9.91875003e-01,\n",
       "         1.00490901e+00,  1.01794302e+00,  1.03097703e+00,  1.04401104e+00,\n",
       "         1.05704505e+00,  1.07007905e+00,  1.08311306e+00,  1.09614707e+00,\n",
       "         1.10918108e+00,  1.12221509e+00,  1.13524910e+00,  1.14828310e+00,\n",
       "         1.16131711e+00,  1.17435112e+00,  1.18738513e+00,  1.20041914e+00,\n",
       "         1.21345315e+00,  1.22648715e+00,  1.23952116e+00,  1.25255517e+00,\n",
       "         1.26558918e+00,  1.27862319e+00,  1.29165720e+00,  1.30469121e+00,\n",
       "         1.31772521e+00,  1.33075922e+00,  1.34379323e+00,  1.35682724e+00,\n",
       "         1.36986125e+00,  1.38289526e+00,  1.39592926e+00,  1.40896327e+00,\n",
       "         1.42199728e+00,  1.43503129e+00,  1.44806530e+00,  1.46109931e+00,\n",
       "         1.47413332e+00,  1.48716732e+00,  1.50020133e+00,  1.51323534e+00,\n",
       "         1.52626935e+00]),\n",
       " <a list of 256 Patch objects>)"
      ]
     },
     "execution_count": 27,
     "metadata": {},
     "output_type": "execute_result"
    },
    {
     "data": {
      "image/png": "[encoded data removed]",
      "text/plain": [
       "<Figure size 360x360 with 1 Axes>"
      ]
     },
     "metadata": {
      "needs_background": "light"
     },
     "output_type": "display_data"
    }
   ],
   "source": [
    "plt.figure(figsize=(5,5))\n",
    "plt.hist(new_img_Pneumonia.ravel(), bins = 256)"
   ]
  },
  {
   "cell_type": "code",
   "execution_count": 28,
   "metadata": {},
   "outputs": [],
   "source": [
    "img_non_Pneumonia=standerdization(img_non_Pneumonia)"
   ]
  },
  {
   "cell_type": "code",
   "execution_count": 29,
   "metadata": {},
   "outputs": [
    {
     "data": {
      "text/plain": [
       "(array([8.0060e+03, 2.6750e+03, 9.3870e+03, 5.7800e+03, 8.4970e+03,\n",
       "        4.8420e+03, 2.9400e+03, 2.6620e+03, 2.4830e+03, 2.3340e+03,\n",
       "        2.3470e+03, 2.1130e+03, 1.9990e+03, 1.8000e+03, 1.8150e+03,\n",
       "        1.8920e+03, 2.1080e+03, 1.9840e+03, 2.2790e+03, 2.5660e+03,\n",
       "        2.7810e+03, 3.0020e+03, 3.1660e+03, 3.3690e+03, 3.6240e+03,\n",
       "        3.5080e+03, 3.5220e+03, 3.8180e+03, 3.7190e+03, 3.9750e+03,\n",
       "        4.1590e+03, 4.2630e+03, 4.4090e+03, 4.6070e+03, 4.7100e+03,\n",
       "        4.9760e+03, 5.1290e+03, 5.1750e+03, 5.1480e+03, 5.1240e+03,\n",
       "        4.9830e+03, 4.9170e+03, 4.8480e+03, 4.7830e+03, 4.8350e+03,\n",
       "        4.8060e+03, 4.8580e+03, 4.6920e+03, 4.5850e+03, 4.3910e+03,\n",
       "        4.3930e+03, 4.3860e+03, 4.3240e+03, 4.3620e+03, 4.1790e+03,\n",
       "        4.2860e+03, 4.2930e+03, 4.3430e+03, 4.4170e+03, 4.7170e+03,\n",
       "        4.7860e+03, 4.9150e+03, 4.9270e+03, 5.0610e+03, 5.1120e+03,\n",
       "        5.0040e+03, 5.0820e+03, 5.4980e+03, 5.7430e+03, 6.1370e+03,\n",
       "        6.4180e+03, 6.7260e+03, 6.7950e+03, 6.8630e+03, 7.2030e+03,\n",
       "        6.9840e+03, 7.0930e+03, 7.2150e+03, 7.5710e+03, 7.7300e+03,\n",
       "        8.0140e+03, 8.0690e+03, 8.1590e+03, 8.2540e+03, 8.3300e+03,\n",
       "        8.5140e+03, 8.9600e+03, 9.3150e+03, 9.5380e+03, 9.7220e+03,\n",
       "        9.9770e+03, 1.0055e+04, 1.0138e+04, 1.0321e+04, 1.0420e+04,\n",
       "        1.0551e+04, 1.0571e+04, 1.0485e+04, 1.0133e+04, 9.7210e+03,\n",
       "        9.2570e+03, 8.9770e+03, 9.0080e+03, 8.7410e+03, 8.7500e+03,\n",
       "        8.6320e+03, 9.4720e+03, 9.4740e+03, 9.5150e+03, 9.5720e+03,\n",
       "        9.5020e+03, 9.1850e+03, 9.4440e+03, 9.5190e+03, 9.5880e+03,\n",
       "        9.8840e+03, 9.5230e+03, 9.4380e+03, 9.1190e+03, 8.9330e+03,\n",
       "        8.7630e+03, 8.6010e+03, 8.1030e+03, 8.1110e+03, 7.7940e+03,\n",
       "        7.9090e+03, 7.6960e+03, 7.4210e+03, 7.3400e+03, 7.1240e+03,\n",
       "        6.9610e+03, 6.7810e+03, 6.4720e+03, 6.4030e+03, 6.2330e+03,\n",
       "        5.9960e+03, 5.9010e+03, 5.6850e+03, 5.4250e+03, 5.3300e+03,\n",
       "        4.9930e+03, 4.8050e+03, 4.6100e+03, 4.6810e+03, 4.5500e+03,\n",
       "        4.4670e+03, 4.3760e+03, 4.2140e+03, 4.2970e+03, 4.2790e+03,\n",
       "        4.2620e+03, 4.0750e+03, 4.0750e+03, 4.0110e+03, 3.9870e+03,\n",
       "        3.9000e+03, 3.9070e+03, 4.0130e+03, 4.2150e+03, 4.4310e+03,\n",
       "        4.4680e+03, 4.4640e+03, 4.3560e+03, 4.3400e+03, 4.3710e+03,\n",
       "        4.4040e+03, 4.4970e+03, 4.5540e+03, 4.5560e+03, 4.7200e+03,\n",
       "        4.6180e+03, 4.3680e+03, 3.8970e+03, 3.6400e+03, 3.1870e+03,\n",
       "        2.7940e+03, 2.3430e+03, 1.9990e+03, 1.6760e+03, 1.2380e+03,\n",
       "        8.9200e+02, 6.5200e+02, 4.8500e+02, 3.3100e+02, 2.3300e+02,\n",
       "        1.7900e+02, 1.4200e+02, 8.3000e+01, 7.7000e+01, 7.3000e+01,\n",
       "        6.3000e+01, 5.1000e+01, 4.2000e+01, 6.8000e+01, 4.9000e+01,\n",
       "        5.3000e+01, 7.3000e+01, 6.8000e+01, 6.1000e+01, 6.5000e+01,\n",
       "        6.3000e+01, 5.7000e+01, 5.6000e+01, 5.3000e+01, 6.3000e+01,\n",
       "        5.3000e+01, 8.3000e+01, 1.0200e+02, 9.9000e+01, 8.3000e+01,\n",
       "        5.3000e+01, 4.9000e+01, 4.3000e+01, 3.4000e+01, 1.5000e+01,\n",
       "        7.0000e+00, 2.0000e+00, 4.0000e+00, 5.0000e+00, 8.0000e+00,\n",
       "        1.7000e+01, 2.2000e+01, 1.2000e+01, 9.0000e+00, 4.0000e+00,\n",
       "        4.0000e+00, 1.6000e+01, 1.2000e+01, 8.0000e+00, 2.0000e+00,\n",
       "        3.0000e+00, 1.0000e+01, 1.0000e+01, 1.5000e+01, 1.2000e+01,\n",
       "        1.1000e+01, 2.8000e+01, 5.8000e+01, 3.1000e+01, 4.4000e+01,\n",
       "        2.9000e+01, 2.3000e+01, 2.4000e+01, 4.3000e+01, 5.0000e+01,\n",
       "        6.4000e+01, 6.0000e+01, 4.7000e+01, 1.5000e+01, 1.2000e+01,\n",
       "        1.6000e+01, 1.0000e+01, 5.0000e+00, 1.0000e+01, 3.5000e+01,\n",
       "        7.1200e+02]),\n",
       " array([-2.08313499e+00, -2.06096653e+00, -2.03879807e+00, -2.01662961e+00,\n",
       "        -1.99446115e+00, -1.97229270e+00, -1.95012424e+00, -1.92795578e+00,\n",
       "        -1.90578732e+00, -1.88361886e+00, -1.86145040e+00, -1.83928194e+00,\n",
       "        -1.81711348e+00, -1.79494502e+00, -1.77277656e+00, -1.75060811e+00,\n",
       "        -1.72843965e+00, -1.70627119e+00, -1.68410273e+00, -1.66193427e+00,\n",
       "        -1.63976581e+00, -1.61759735e+00, -1.59542889e+00, -1.57326043e+00,\n",
       "        -1.55109198e+00, -1.52892352e+00, -1.50675506e+00, -1.48458660e+00,\n",
       "        -1.46241814e+00, -1.44024968e+00, -1.41808122e+00, -1.39591276e+00,\n",
       "        -1.37374430e+00, -1.35157584e+00, -1.32940739e+00, -1.30723893e+00,\n",
       "        -1.28507047e+00, -1.26290201e+00, -1.24073355e+00, -1.21856509e+00,\n",
       "        -1.19639663e+00, -1.17422817e+00, -1.15205971e+00, -1.12989126e+00,\n",
       "        -1.10772280e+00, -1.08555434e+00, -1.06338588e+00, -1.04121742e+00,\n",
       "        -1.01904896e+00, -9.96880502e-01, -9.74712043e-01, -9.52543584e-01,\n",
       "        -9.30375125e-01, -9.08206666e-01, -8.86038207e-01, -8.63869748e-01,\n",
       "        -8.41701289e-01, -8.19532830e-01, -7.97364371e-01, -7.75195912e-01,\n",
       "        -7.53027454e-01, -7.30858995e-01, -7.08690536e-01, -6.86522077e-01,\n",
       "        -6.64353618e-01, -6.42185159e-01, -6.20016700e-01, -5.97848241e-01,\n",
       "        -5.75679782e-01, -5.53511323e-01, -5.31342864e-01, -5.09174405e-01,\n",
       "        -4.87005946e-01, -4.64837487e-01, -4.42669028e-01, -4.20500569e-01,\n",
       "        -3.98332110e-01, -3.76163652e-01, -3.53995193e-01, -3.31826734e-01,\n",
       "        -3.09658275e-01, -2.87489816e-01, -2.65321357e-01, -2.43152898e-01,\n",
       "        -2.20984439e-01, -1.98815980e-01, -1.76647521e-01, -1.54479062e-01,\n",
       "        -1.32310603e-01, -1.10142144e-01, -8.79736853e-02, -6.58052264e-02,\n",
       "        -4.36367674e-02, -2.14683085e-02,  7.00150432e-04,  2.28686094e-02,\n",
       "         4.50370683e-02,  6.72055273e-02,  8.93739862e-02,  1.11542445e-01,\n",
       "         1.33710904e-01,  1.55879363e-01,  1.78047822e-01,  2.00216281e-01,\n",
       "         2.22384740e-01,  2.44553199e-01,  2.66721658e-01,  2.88890117e-01,\n",
       "         3.11058576e-01,  3.33227035e-01,  3.55395493e-01,  3.77563952e-01,\n",
       "         3.99732411e-01,  4.21900870e-01,  4.44069329e-01,  4.66237788e-01,\n",
       "         4.88406247e-01,  5.10574706e-01,  5.32743165e-01,  5.54911624e-01,\n",
       "         5.77080083e-01,  5.99248542e-01,  6.21417001e-01,  6.43585460e-01,\n",
       "         6.65753919e-01,  6.87922378e-01,  7.10090837e-01,  7.32259295e-01,\n",
       "         7.54427754e-01,  7.76596213e-01,  7.98764672e-01,  8.20933131e-01,\n",
       "         8.43101590e-01,  8.65270049e-01,  8.87438508e-01,  9.09606967e-01,\n",
       "         9.31775426e-01,  9.53943885e-01,  9.76112344e-01,  9.98280803e-01,\n",
       "         1.02044926e+00,  1.04261772e+00,  1.06478618e+00,  1.08695464e+00,\n",
       "         1.10912310e+00,  1.13129156e+00,  1.15346002e+00,  1.17562847e+00,\n",
       "         1.19779693e+00,  1.21996539e+00,  1.24213385e+00,  1.26430231e+00,\n",
       "         1.28647077e+00,  1.30863923e+00,  1.33080769e+00,  1.35297615e+00,\n",
       "         1.37514460e+00,  1.39731306e+00,  1.41948152e+00,  1.44164998e+00,\n",
       "         1.46381844e+00,  1.48598690e+00,  1.50815536e+00,  1.53032382e+00,\n",
       "         1.55249228e+00,  1.57466074e+00,  1.59682919e+00,  1.61899765e+00,\n",
       "         1.64116611e+00,  1.66333457e+00,  1.68550303e+00,  1.70767149e+00,\n",
       "         1.72983995e+00,  1.75200841e+00,  1.77417687e+00,  1.79634532e+00,\n",
       "         1.81851378e+00,  1.84068224e+00,  1.86285070e+00,  1.88501916e+00,\n",
       "         1.90718762e+00,  1.92935608e+00,  1.95152454e+00,  1.97369300e+00,\n",
       "         1.99586145e+00,  2.01802991e+00,  2.04019837e+00,  2.06236683e+00,\n",
       "         2.08453529e+00,  2.10670375e+00,  2.12887221e+00,  2.15104067e+00,\n",
       "         2.17320913e+00,  2.19537759e+00,  2.21754604e+00,  2.23971450e+00,\n",
       "         2.26188296e+00,  2.28405142e+00,  2.30621988e+00,  2.32838834e+00,\n",
       "         2.35055680e+00,  2.37272526e+00,  2.39489372e+00,  2.41706217e+00,\n",
       "         2.43923063e+00,  2.46139909e+00,  2.48356755e+00,  2.50573601e+00,\n",
       "         2.52790447e+00,  2.55007293e+00,  2.57224139e+00,  2.59440985e+00,\n",
       "         2.61657831e+00,  2.63874676e+00,  2.66091522e+00,  2.68308368e+00,\n",
       "         2.70525214e+00,  2.72742060e+00,  2.74958906e+00,  2.77175752e+00,\n",
       "         2.79392598e+00,  2.81609444e+00,  2.83826289e+00,  2.86043135e+00,\n",
       "         2.88259981e+00,  2.90476827e+00,  2.92693673e+00,  2.94910519e+00,\n",
       "         2.97127365e+00,  2.99344211e+00,  3.01561057e+00,  3.03777903e+00,\n",
       "         3.05994748e+00,  3.08211594e+00,  3.10428440e+00,  3.12645286e+00,\n",
       "         3.14862132e+00,  3.17078978e+00,  3.19295824e+00,  3.21512670e+00,\n",
       "         3.23729516e+00,  3.25946361e+00,  3.28163207e+00,  3.30380053e+00,\n",
       "         3.32596899e+00,  3.34813745e+00,  3.37030591e+00,  3.39247437e+00,\n",
       "         3.41464283e+00,  3.43681129e+00,  3.45897975e+00,  3.48114820e+00,\n",
       "         3.50331666e+00,  3.52548512e+00,  3.54765358e+00,  3.56982204e+00,\n",
       "         3.59199050e+00]),\n",
       " <a list of 256 Patch objects>)"
      ]
     },
     "execution_count": 29,
     "metadata": {},
     "output_type": "execute_result"
    },
    {
     "data": {
      "image/png": "[encoded data removed]",
      "text/plain": [
       "<Figure size 360x360 with 1 Axes>"
      ]
     },
     "metadata": {
      "needs_background": "light"
     },
     "output_type": "display_data"
    }
   ],
   "source": [
    "plt.figure(figsize=(5,5))\n",
    "plt.hist(img_non_Pneumonia.ravel(), bins = 256)"
   ]
  },
  {
   "cell_type": "markdown",
   "metadata": {},
   "source": [
    "## Conclusions"
   ]
  },
  {
   "cell_type": "markdown",
   "metadata": {},
   "source": [
    "* The data is highly unblanced, where we only have 1.27% percent of images with Pneumonia\n",
    "* The classes of Patient Gender and Patient Age are slightly imbalanced for images with Pneumonia and without Pneumonia\n",
    "* Images with Pneumonia and without Pneumonia cannot classfied by Pixel-level threshold."
   ]
  },
  {
   "cell_type": "code",
   "execution_count": null,
   "metadata": {},
   "outputs": [],
   "source": []
  }
 ],
 "metadata": {
  "kernelspec": {
   "display_name": "Python 3",
   "language": "python",
   "name": "python3"
  },
  "language_info": {
   "codemirror_mode": {
    "name": "ipython",
    "version": 3
   },
   "file_extension": ".py",
   "mimetype": "text/x-python",
   "name": "python",
   "nbconvert_exporter": "python",
   "pygments_lexer": "ipython3",
   "version": "3.7.6"
  }
 },
 "nbformat": 4,
 "nbformat_minor": 2
}
